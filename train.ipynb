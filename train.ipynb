{
 "cells": [
  {
   "cell_type": "code",
   "execution_count": 13,
   "metadata": {},
   "outputs": [],
   "source": [
    "import random\n",
    "import numpy as np\n",
    "import torch\n",
    "import torch.nn as nn\n",
    "import torch.nn.functional as F\n",
    "from game import Game\n",
    "from heuristics import *"
   ]
  },
  {
   "cell_type": "code",
   "execution_count": 14,
   "metadata": {},
   "outputs": [],
   "source": [
    "class DeepQNetworkConnect4(nn.Module):\n",
    "    # def __init__(self, env):\n",
    "    def __init__(self):\n",
    "        super().__init__()\n",
    "        self.network = nn.Sequential(\n",
    "            nn.Flatten(start_dim = 1),\n",
    "            #nn.Linear(126, 40),\n",
    "            #nn.ReLU(),\n",
    "            nn.Linear(42, 20),\n",
    "            nn.ReLU(),\n",
    "            nn.Linear(20, 7),\n",
    "        )\n",
    "\n",
    "    def forward(self, x):\n",
    "        return self.network(x)"
   ]
  },
  {
   "cell_type": "code",
   "execution_count": 15,
   "metadata": {},
   "outputs": [],
   "source": [
    "class ReplayBuffer:\n",
    "\n",
    "    def __init__(self, max_frames):\n",
    "        self.max_frames = max_frames\n",
    "        self.buffer = []\n",
    "\n",
    "    def add(self, frame):\n",
    "        self.buffer.append(frame)\n",
    "        if len(self.buffer) > self.max_frames:\n",
    "            del self.buffer[0:len(self.buffer)-self.max_frames]\n",
    "\n",
    "    def sample(self, num_samples):\n",
    "        # Ensure we don't pick the same frame twice\n",
    "        # Record the random indices picked from elements in the buffer\n",
    "        sample_nums = set()\n",
    "        while len(sample_nums) < num_samples:\n",
    "            sample_nums.add(random.randrange(len(self.buffer)))\n",
    "        experiences = [self.buffer[i] for i in sample_nums]\n",
    "        return experiences"
   ]
  },
  {
   "cell_type": "code",
   "execution_count": 16,
   "metadata": {},
   "outputs": [],
   "source": [
    "def calculate_epsilon(step, epsilon_start, epsilon_finish, total_timesteps, exploration_fraction):\n",
    "    finish_step = total_timesteps * exploration_fraction\n",
    "    if step > finish_step:\n",
    "        return epsilon_finish\n",
    "    epsilon_range = epsilon_start - epsilon_finish\n",
    "    return epsilon_finish + (((finish_step - step) / finish_step) * epsilon_range)\n",
    "\n",
    "def QLoss(state_evals, next_state_evals):\n",
    "  loss = 1000 * torch.mean((state_evals - next_state_evals) ** 2)\n",
    "  return loss"
   ]
  },
  {
   "cell_type": "code",
   "execution_count": 17,
   "metadata": {},
   "outputs": [],
   "source": [
    "# HYPERPARAMETERS\n",
    "seed = 0\n",
    "buffer_size = 100000\n",
    "learning_rate = 2.5e-4\n",
    "pretrain_games = 1\n",
    "ideal_batch_size = 10\n",
    "total_timesteps = 10\n",
    "epsilon_start = 0.9\n",
    "epsilon_finish = 0\n",
    "exploration_fraction = 0.8"
   ]
  },
  {
   "cell_type": "code",
   "execution_count": 18,
   "metadata": {},
   "outputs": [],
   "source": [
    "def train():\n",
    "    device = torch.device(\"cuda\" if torch.cuda.is_available() else \"cpu\")\n",
    "    random.seed(seed)\n",
    "    np.random.seed(seed)\n",
    "    torch.manual_seed(seed)\n",
    "    torch.backends.cudnn.deterministic = True if seed > 0 else False\n",
    "\n",
    "    # Initialise replay memory D to capacity N\n",
    "    buffer = ReplayBuffer(buffer_size)\n",
    "\n",
    "    # Initialize action-value function Q and target network\n",
    "    q_network = DeepQNetworkConnect4().to(device)\n",
    "    target_network = DeepQNetworkConnect4().to(device)\n",
    "    target_network.load_state_dict(q_network.state_dict())\n",
    "    optimiser = torch.optim.Adam(q_network.parameters(), learning_rate)\n",
    "\n",
    "    for step in range(pretrain_games):\n",
    "        # Generate games and add experiences\n",
    "        g = game.Game()\n",
    "        # TODO: Add options for more agent pairs\n",
    "        g.playGame(agent1 = 1, agent2 = 3)\n",
    "        for experience in g.experiences:\n",
    "            buffer.add(experience)\n",
    "\n",
    "    batch = buffer.sample(min(len(buffer.buffer), ideal_batch_size))\n",
    "    # states and next states should be floats (same as the OUTPUT)\n",
    "    # brackets are required to turn generator into a list\n",
    "    states = torch.stack([torch.from_numpy(exp.state) for exp in batch]).float()\n",
    "    next_states = torch.stack([torch.from_numpy(exp.next_state) for exp in batch]).float()\n",
    "    # get q-network outputs\n",
    "    state_q_values = q_network(states)\n",
    "    next_state_q_values = q_network(next_states)\n",
    "\n",
    "    # get loss\n",
    "    loss = QLoss(state_q_values, next_state_q_values)\n",
    "    # backprop\n",
    "    with torch.no_grad():\n",
    "        optimiser.zero_grad()\n",
    "        loss.backward()\n",
    "        optimiser.step()\n",
    "\n",
    "train()"
   ]
  }
 ],
 "metadata": {
  "kernelspec": {
   "display_name": "Python 3",
   "language": "python",
   "name": "python3"
  },
  "language_info": {
   "codemirror_mode": {
    "name": "ipython",
    "version": 3
   },
   "file_extension": ".py",
   "mimetype": "text/x-python",
   "name": "python",
   "nbconvert_exporter": "python",
   "pygments_lexer": "ipython3",
   "version": "3.10.13"
  }
 },
 "nbformat": 4,
 "nbformat_minor": 2
}
